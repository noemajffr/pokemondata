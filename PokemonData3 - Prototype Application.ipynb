{
 "cells": [
  {
   "cell_type": "markdown",
   "metadata": {},
   "source": [
    "#  Pokemon Data - Notebook n° 3"
   ]
  },
  {
   "cell_type": "markdown",
   "metadata": {},
   "source": [
    "### L'objectif de ce Notebook est de vous présenter les données et lignes de codes qui nous ont permis de développer notre application. Notre but était de vous faire découvrir les pokémons selon différents critères que vous devrez sélectionner, à savoir le type du Pokémon, s'il faut inclure ou non les Pokémons légendaires, et enfin ses statistiques de combat selon des coefficients multiplicatifs."
   ]
  },
  {
   "cell_type": "code",
   "execution_count": 1,
   "metadata": {},
   "outputs": [],
   "source": [
    "#Importation des librairies\n",
    "import pandas as pd\n",
    "import numpy as np\n",
    "import seaborn as sns\n",
    "import matplotlib.pyplot as plt"
   ]
  },
  {
   "cell_type": "code",
   "execution_count": 2,
   "metadata": {
    "scrolled": true
   },
   "outputs": [],
   "source": [
    "#Lecture du fichier\n",
    "df = pd.read_csv(\"Data.csv\", index_col=\"Pokemon Id\")\n",
    "pd.set_option(\"max_columns\", None)"
   ]
  },
  {
   "cell_type": "code",
   "execution_count": 3,
   "metadata": {},
   "outputs": [],
   "source": [
    "#Sélection des formes originales\n",
    "df = df[df[\"Alternate Form Name\"].isna()]"
   ]
  },
  {
   "cell_type": "code",
   "execution_count": 4,
   "metadata": {},
   "outputs": [],
   "source": [
    "#Ajout d'une colonne \"Base Stat Total User\"\n",
    "df[\"Base Stat Total User\"] = 1*df[\"Health Stat\"] + 1*df[\"Attack Stat\"] + 1*df[\"Defense Stat\"] + 1*df[\"Special Attack Stat\"] + 1*df[\"Special Defense Stat\"] + 1*df[\"Speed Stat\"]"
   ]
  },
  {
   "cell_type": "code",
   "execution_count": 5,
   "metadata": {
    "scrolled": true
   },
   "outputs": [],
   "source": [
    "#Dataframe composé des légendaires uniquement\n",
    "df_legendaires = df[df[\"Legendary Type\"].notna()]"
   ]
  },
  {
   "cell_type": "code",
   "execution_count": 6,
   "metadata": {
    "scrolled": true
   },
   "outputs": [],
   "source": [
    "def pokemon_tri() :\n",
    "    \"\"\"Crée un data frame selon les critères de l'utilisateur\"\"\"\n",
    "    \n",
    "    #Entrée des données utilisateur\n",
    "    h, a, d, s_a, s_d, s = -1, -1, -1, -1, -1, -1\n",
    "    while h < 0 :\n",
    "        h = float(input(\"Coefficient de Health Stat : \"))\n",
    "    while a < 0 :\n",
    "        a = float(input(\"\\nCoefficient de Attack Stat : \"))\n",
    "    while d < 0 :\n",
    "        d = float(input(\"\\nCoefficient de Defense Stat : \"))\n",
    "    while s_a < 0 :\n",
    "        s_a = float(input(\"\\nCoefficient de Special Attack Stat : \"))\n",
    "    while s_d < 0 :\n",
    "        s_d = float(input(\"\\nCoefficient de Special Defense Stat : \"))\n",
    "    while s < 0 :\n",
    "        s = float(input(\"\\nCoefficient de Speed Stat : \"))\n",
    "    assert((h + a + d + s_a + s_d + s)>0)\n",
    "    \n",
    "    #Modification du dataframe selon les données utilisateur\n",
    "    df_modified = df\n",
    "    df_modified[\"Base Stat Total User\"] = h*df_modified[\"Health Stat\"] + a*df_modified[\"Attack Stat\"] + d*df_modified[\"Defense Stat\"] + s_a*df_modified[\"Special Attack Stat\"] + s_d*df_modified[\"Special Defense Stat\"] + s*df_modified[\"Speed Stat\"]\n",
    "    \n",
    "    #Tri du dataframe selon les données utilisateur\n",
    "    print(\"\\nLegendary :\")\n",
    "    l = None\n",
    "    categorie = [\"avec\",\"seulement\",\"sans\"]\n",
    "    while l not in categorie :\n",
    "        l = input(f\"\\n{categorie}\\nVotre réponse : \")\n",
    "    if l==\"seulement\" :\n",
    "        df_modified = df_modified[df_modified[\"Legendary Type\"].notna()]\n",
    "    if l==\"sans\" :\n",
    "        df_modified = df_modified[df_modified[\"Legendary Type\"].isna()]\n",
    "    \n",
    "    #Tri du dataframe selon les données utilisateur\n",
    "    print(\"\\nPrimary Type :\")\n",
    "    t = None\n",
    "    types = list(df[\"Primary Type\"].unique())\n",
    "    types.append(\"None\")\n",
    "    types = sorted(types)\n",
    "    while t not in types :\n",
    "        t = input(f\"\\n{types}\\nVotre réponse : \")\n",
    "    if t in list(df[\"Primary Type\"].unique()) :\n",
    "        df_modified = df_modified[df_modified[\"Primary Type\"]==t]\n",
    "    return(df_modified.sort_values(by=\"Base Stat Total User\",ascending=False))"
   ]
  },
  {
   "cell_type": "code",
   "execution_count": 7,
   "metadata": {},
   "outputs": [],
   "source": [
    "def pokemon_classement(n) :\n",
    "    \"\"\"Affiche les n meilleurs Pokemon selon les critères de l'utilisateur\"\"\"\n",
    "    \n",
    "    #Appel d'une fonction\n",
    "    df = pokemon_tri()\n",
    "    \n",
    "    #Affichage d'un histogramme\n",
    "    if len(df)>0 :\n",
    "        plt.figure(figsize=(20,10))\n",
    "        sns.barplot(\n",
    "            data=df.head(n),\n",
    "            x=\"Base Stat Total User\",\n",
    "            y=\"Pokemon Name\"\n",
    "        )\n",
    "        plt.xlim(df[\"Base Stat Total User\"].head(n).min()-10, df[\"Base Stat Total User\"].head(n).max()+10)\n",
    "        return(df.head(n))\n",
    "    else :\n",
    "        print(f\"\\n{None}\")\n",
    "        return()"
   ]
  },
  {
   "cell_type": "markdown",
   "metadata": {},
   "source": [
    "### C'est à partir d'ici que vous pourrez sélectionner vos critères afin de faire le test"
   ]
  },
  {
   "cell_type": "markdown",
   "metadata": {},
   "source": [
    "Toutefois, une meilleure prise en main vous attend sur Heroku."
   ]
  },
  {
   "cell_type": "code",
   "execution_count": 8,
   "metadata": {
    "scrolled": false
   },
   "outputs": [
    {
     "name": "stdout",
     "output_type": "stream",
     "text": [
      "Coefficient de Health Stat : 2\n",
      "\n",
      "Coefficient de Attack Stat : 2\n",
      "\n",
      "Coefficient de Defense Stat : 1\n",
      "\n",
      "Coefficient de Special Attack Stat : 2\n",
      "\n",
      "Coefficient de Special Defense Stat : 1\n",
      "\n",
      "Coefficient de Speed Stat : 1\n",
      "\n",
      "Legendary :\n",
      "\n",
      "['avec', 'seulement', 'sans']\n",
      "Votre réponse : avec\n",
      "\n",
      "Primary Type :\n",
      "\n",
      "['Bug', 'Dark', 'Dragon', 'Electric', 'Fairy', 'Fighting', 'Fire', 'Flying', 'Ghost', 'Grass', 'Ground', 'Ice', 'None', 'Normal', 'Poison', 'Psychic', 'Rock', 'Steel', 'Water']\n",
      "Votre réponse : Water\n"
     ]
    },
    {
     "data": {
      "image/png": "[encoded data removed]",
      "text/plain": [
       "<Figure size 1440x720 with 1 Axes>"
      ]
     },
     "metadata": {
      "needs_background": "light"
     },
     "output_type": "display_data"
    }
   ],
   "source": [
    "#Appel d'une fonction\n",
    "classement = pokemon_classement(10)"
   ]
  },
  {
   "cell_type": "code",
   "execution_count": 9,
   "metadata": {},
   "outputs": [
    {
     "data": {
      "text/html": [
       "<div>\n",
       "<style scoped>\n",
       "    .dataframe tbody tr th:only-of-type {\n",
       "        vertical-align: middle;\n",
       "    }\n",
       "\n",
       "    .dataframe tbody tr th {\n",
       "        vertical-align: top;\n",
       "    }\n",
       "\n",
       "    .dataframe thead th {\n",
       "        text-align: right;\n",
       "    }\n",
       "</style>\n",
       "<table border=\"1\" class=\"dataframe\">\n",
       "  <thead>\n",
       "    <tr style=\"text-align: right;\">\n",
       "      <th>Pokemon Name</th>\n",
       "      <th>Keldeo</th>\n",
       "      <th>Kyogre</th>\n",
       "      <th>Lapras</th>\n",
       "      <th>Manaphy</th>\n",
       "      <th>Palkia</th>\n",
       "      <th>Samurott</th>\n",
       "      <th>Suicune</th>\n",
       "      <th>Swampert</th>\n",
       "      <th>Vaporeon</th>\n",
       "      <th>Wailord</th>\n",
       "    </tr>\n",
       "  </thead>\n",
       "  <tbody>\n",
       "    <tr>\n",
       "      <th>Base Stat Total User</th>\n",
       "      <td>872.0</td>\n",
       "      <td>1020.0</td>\n",
       "      <td>835.0</td>\n",
       "      <td>900.0</td>\n",
       "      <td>1040.0</td>\n",
       "      <td>831.0</td>\n",
       "      <td>845.0</td>\n",
       "      <td>830.0</td>\n",
       "      <td>830.0</td>\n",
       "      <td>850.0</td>\n",
       "    </tr>\n",
       "  </tbody>\n",
       "</table>\n",
       "</div>"
      ],
      "text/plain": [
       "Pokemon Name          Keldeo  Kyogre  Lapras  Manaphy  Palkia  Samurott  \\\n",
       "Base Stat Total User   872.0  1020.0   835.0    900.0  1040.0     831.0   \n",
       "\n",
       "Pokemon Name          Suicune  Swampert  Vaporeon  Wailord  \n",
       "Base Stat Total User    845.0     830.0     830.0    850.0  "
      ]
     },
     "execution_count": 9,
     "metadata": {},
     "output_type": "execute_result"
    }
   ],
   "source": [
    "#Affichage d'un pivot_table\n",
    "pd.pivot_table(\n",
    "    data=classement,\n",
    "    columns=[\"Pokemon Name\"],\n",
    "    values=[\"Base Stat Total User\"]\n",
    ")"
   ]
  }
 ],
 "metadata": {
  "kernelspec": {
   "display_name": "Python 3",
   "language": "python",
   "name": "python3"
  },
  "language_info": {
   "codemirror_mode": {
    "name": "ipython",
    "version": 3
   },
   "file_extension": ".py",
   "mimetype": "text/x-python",
   "name": "python",
   "nbconvert_exporter": "python",
   "pygments_lexer": "ipython3",
   "version": "3.8.3"
  }
 },
 "nbformat": 4,
 "nbformat_minor": 4
}
